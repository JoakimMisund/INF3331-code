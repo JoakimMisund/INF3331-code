{
 "cells": [
  {
   "cell_type": "markdown",
   "metadata": {},
   "source": [
    "# Dealing with unsanitized data"
   ]
  },
  {
   "cell_type": "markdown",
   "metadata": {},
   "source": [
    "One of the biggest challenges with analyzing/using data is that it is often unsanitized. There are inconsistency in they way data within a field is represented and entries missing data.\n",
    "\n",
    "In this documen we will go through an example of dealing with unsanitized data. We will be using data from the follwoing url: https://data.norge.no/data/bouvet-asa/skoler-og-klasser-som-har-meldt-seg-p%C3%A5-kodetimen. It contains information about schools and classes that have signed up for coding-lessions."
   ]
  },
  {
   "cell_type": "markdown",
   "metadata": {},
   "source": [
    "Let us start by looking at the data. We will import and display the data using pandas"
   ]
  },
  {
   "cell_type": "code",
   "execution_count": 1,
   "metadata": {
    "collapsed": true
   },
   "outputs": [],
   "source": [
    "import pandas as pd"
   ]
  },
  {
   "cell_type": "code",
   "execution_count": 2,
   "metadata": {},
   "outputs": [
    {
     "name": "stdout",
     "output_type": "stream",
     "text": [
      "      _id                       school                  address  \\\n",
      "0  104875       6 Narvik Speidergruppe       Dronningensgate 68   \n",
      "1  104100               Abelvær, Norge                            \n",
      "2  104214              Ådalsbruk skole             Olarovegen 1   \n",
      "3  103853  Akersveien Kanvas-barnehage  Westye Egebergs gate 11   \n",
      "4  104673              Ål ungdomsskule           Sundrevegen 42   \n",
      "\n",
      "                                               level          levels  year  \\\n",
      "0                                a:1:{i:0;s:2:\"5.\";}              5.  2016   \n",
      "1      a:3:{i:0;s:2:\"5.\";i:1;s:2:\"6.\";i:2;s:2:\"7.\";}        5.,6.,7.  2016   \n",
      "2  a:5:{i:0;s:2:\"1.\";i:1;s:2:\"2.\";i:2;s:2:\"3.\";i:...  1.,2.,3.,4.,7.  2016   \n",
      "3                         a:1:{i:0;s:9:\"Barnehage\";}       Barnehage  2016   \n",
      "4                   a:2:{i:0;s:2:\"9.\";i:1;s:2:\"8.\";}           9.,8.  2016   \n",
      "\n",
      "  locality          county students                 post_date    pos_lat  \\\n",
      "0   Narvik        Nordland       15  2016-11-21T15:55:33.000Z  68.439563   \n",
      "1    Nærøy  Nord-Trøndelag        4  2016-10-21T11:37:09.000Z  64.729447   \n",
      "2    Løten         Hedmark       68  2016-10-24T13:53:18.000Z  60.788522   \n",
      "3     Oslo            Oslo        7  2016-10-18T20:12:54.000Z  59.923005   \n",
      "4       Ål        Buskerud      126  2016-11-08T16:56:56.000Z  60.627746   \n",
      "\n",
      "    pos_long  \n",
      "0  17.433472  \n",
      "1  11.180350  \n",
      "2  11.327604  \n",
      "3  10.747784  \n",
      "4   8.549797  \n"
     ]
    }
   ],
   "source": [
    "data = pd.read_csv('kodetime.csv')\n",
    "print(data.head())"
   ]
  },
  {
   "cell_type": "markdown",
   "metadata": {},
   "source": [
    "Let's say that we are intereste in finding out which county has the most signed up students. We make use of groupby and aggregate to find the answer."
   ]
  },
  {
   "cell_type": "code",
   "execution_count": 3,
   "metadata": {},
   "outputs": [
    {
     "name": "stdout",
     "output_type": "stream",
     "text": [
      "county\n",
      "Oslo                7140187843061552321105168180-91242321464825103...\n",
      "Akershus            6910923262478881134623017545233451704527472523...\n",
      "Hedmark             6861576813251717253647212186132165745202505226...\n",
      "Sør-Trøndelag       6795824217224712011232020183648468415789108121...\n",
      "Troms               6681501940269229148113417212326321412343404552...\n",
      "Finnmark                      628921512181171422172521258741670103176\n",
      "Vestfold            5158402616204846259636026472113825080468254010...\n",
      "Nord-Trøndelag      4454922720032651333313123932909019222336562727...\n",
      "Oppland             3239908543253271653411827601714101238113012297...\n",
      "Telemark            2410311941603018462964261121016554504502468641...\n",
      "Møre og Romsdal     2314318182853618817458901226341255248190601418...\n",
      "Østfold             2239155374912113579547383323718158120144545156...\n",
      "Hordaland           2234182543101510915471623823597741582141582766...\n",
      "Sogn og Fjordane    2044133314432354583648229732746192125461015361...\n",
      "Vest-Agder          1632482152354114115610053202724262813925371102...\n",
      "Aust-Agder          1534134945385163118150451846139581223318617151...\n",
      "Nordland            1516810181687201314364491530645141116333184279...\n",
      "Rogaland            1348238057653419245244919181150200127379041143...\n",
      "Buskerud            1264155006232057519397630027773365045075246014...\n",
      "Name: students, dtype: object\n"
     ]
    }
   ],
   "source": [
    "grouped_data = data.groupby('county')\n",
    "aggregated_data = grouped_data['students'].aggregate(sum)\n",
    "print(aggregated_data.sort_values(ascending=False))"
   ]
  },
  {
   "cell_type": "markdown",
   "metadata": {},
   "source": [
    "well.. There is obviously something wrong here. The output contains a clue, namly that the data type is object. If we look at the students column it seems like each entry is an integer. Pandas is able to infer the datatype, unless there is inconsistencies. Let us try to convert the column to integer."
   ]
  },
  {
   "cell_type": "code",
   "execution_count": 4,
   "metadata": {},
   "outputs": [
    {
     "ename": "ValueError",
     "evalue": "Unable to parse string \"51  elever \" at position 809",
     "output_type": "error",
     "traceback": [
      "\u001b[0;31m---------------------------------------------------------------------------\u001b[0m",
      "\u001b[0;31mValueError\u001b[0m                                Traceback (most recent call last)",
      "\u001b[0;32mpandas/_libs/src/inference.pyx\u001b[0m in \u001b[0;36mpandas._libs.lib.maybe_convert_numeric (pandas/_libs/lib.c:56156)\u001b[0;34m()\u001b[0m\n",
      "\u001b[0;31mValueError\u001b[0m: Unable to parse string \"51  elever \"",
      "\nDuring handling of the above exception, another exception occurred:\n",
      "\u001b[0;31mValueError\u001b[0m                                Traceback (most recent call last)",
      "\u001b[0;32m<ipython-input-4-6be8b664deac>\u001b[0m in \u001b[0;36m<module>\u001b[0;34m()\u001b[0m\n\u001b[0;32m----> 1\u001b[0;31m \u001b[0mdata\u001b[0m\u001b[0;34m[\u001b[0m\u001b[0;34m'students'\u001b[0m\u001b[0;34m]\u001b[0m \u001b[0;34m=\u001b[0m \u001b[0mpd\u001b[0m\u001b[0;34m.\u001b[0m\u001b[0mto_numeric\u001b[0m\u001b[0;34m(\u001b[0m\u001b[0mdata\u001b[0m\u001b[0;34m[\u001b[0m\u001b[0;34m'students'\u001b[0m\u001b[0;34m]\u001b[0m\u001b[0;34m)\u001b[0m\u001b[0;34m\u001b[0m\u001b[0m\n\u001b[0m",
      "\u001b[0;32m/usr/local/lib/python3.5/dist-packages/pandas/core/tools/numeric.py\u001b[0m in \u001b[0;36mto_numeric\u001b[0;34m(arg, errors, downcast)\u001b[0m\n\u001b[1;32m    124\u001b[0m             \u001b[0mcoerce_numeric\u001b[0m \u001b[0;34m=\u001b[0m \u001b[0;32mFalse\u001b[0m \u001b[0;32mif\u001b[0m \u001b[0merrors\u001b[0m \u001b[0;32min\u001b[0m \u001b[0;34m(\u001b[0m\u001b[0;34m'ignore'\u001b[0m\u001b[0;34m,\u001b[0m \u001b[0;34m'raise'\u001b[0m\u001b[0;34m)\u001b[0m \u001b[0;32melse\u001b[0m \u001b[0;32mTrue\u001b[0m\u001b[0;34m\u001b[0m\u001b[0m\n\u001b[1;32m    125\u001b[0m             values = lib.maybe_convert_numeric(values, set(),\n\u001b[0;32m--> 126\u001b[0;31m                                                coerce_numeric=coerce_numeric)\n\u001b[0m\u001b[1;32m    127\u001b[0m \u001b[0;34m\u001b[0m\u001b[0m\n\u001b[1;32m    128\u001b[0m     \u001b[0;32mexcept\u001b[0m \u001b[0mException\u001b[0m\u001b[0;34m:\u001b[0m\u001b[0;34m\u001b[0m\u001b[0m\n",
      "\u001b[0;32mpandas/_libs/src/inference.pyx\u001b[0m in \u001b[0;36mpandas._libs.lib.maybe_convert_numeric (pandas/_libs/lib.c:56638)\u001b[0;34m()\u001b[0m\n",
      "\u001b[0;31mValueError\u001b[0m: Unable to parse string \"51  elever \" at position 809"
     ]
    }
   ],
   "source": [
    "data['students'] = pd.to_numeric(data['students'])"
   ]
  },
  {
   "cell_type": "markdown",
   "metadata": {},
   "source": [
    "Unable to parse string \"51  elever \". The data is stored in different ways, what a shame. Some of the entries contains 'elever'. This is the pain in dealing with data created by others. You would of course never do anything like this!"
   ]
  },
  {
   "cell_type": "markdown",
   "metadata": {},
   "source": [
    "We have found the cause, now what do we do? There are two options.\n",
    "\n",
    "1. Ignore the entries causing problems.\n",
    "2. Modify the entries by removing 'elever'.\n",
    "\n",
    "Which to choose depends on the application. If you need an accurate tall of the number of students you should do 2. However if you are only interested in a estimate to get a impression 1 should work well. (And I am too lazy to implement a filtering function, do it yourself)"
   ]
  },
  {
   "cell_type": "code",
   "execution_count": 5,
   "metadata": {
    "collapsed": true
   },
   "outputs": [],
   "source": [
    "data['students'] = pd.to_numeric(data['students'], 'coerce')"
   ]
  },
  {
   "cell_type": "markdown",
   "metadata": {},
   "source": [
    "From the documentation: If ‘coerce’, then invalid parsing will be set as NaN.\n",
    "\n",
    "Now let ut try to sort the counties based on the number of students."
   ]
  },
  {
   "cell_type": "code",
   "execution_count": 6,
   "metadata": {},
   "outputs": [
    {
     "name": "stdout",
     "output_type": "stream",
     "text": [
      "county\n",
      "Akershus            16687.0\n",
      "Oslo                13343.0\n",
      "Buskerud            13270.0\n",
      "Hordaland           13211.0\n",
      "Rogaland            11186.0\n",
      "Vestfold             6415.0\n",
      "Møre og Romsdal      5740.0\n",
      "Nordland             5118.0\n",
      "Sør-Trøndelag        4992.0\n",
      "Østfold              4323.0\n",
      "Telemark             3166.0\n",
      "Sogn og Fjordane     2707.0\n",
      "Oppland              2447.0\n",
      "Hedmark              2367.0\n",
      "Nord-Trøndelag       2315.0\n",
      "Aust-Agder           2212.0\n",
      "Vest-Agder           1832.0\n",
      "Troms                1224.0\n",
      "Finnmark             1021.0\n",
      "Name: students, dtype: float64\n"
     ]
    }
   ],
   "source": [
    "grouped_data = data.groupby('county')\n",
    "aggregated_data = grouped_data['students'].aggregate(sum)\n",
    "print(aggregated_data.sort_values(ascending=False))"
   ]
  },
  {
   "cell_type": "markdown",
   "metadata": {},
   "source": [
    "That is the end!\n",
    "\n",
    "Included some plotting below to show how powerful pandas is :)"
   ]
  },
  {
   "cell_type": "code",
   "execution_count": 7,
   "metadata": {
    "collapsed": true
   },
   "outputs": [],
   "source": [
    "import matplotlib.pyplot as plt"
   ]
  },
  {
   "cell_type": "code",
   "execution_count": 8,
   "metadata": {},
   "outputs": [
    {
     "data": {
      "text/plain": [
       "<matplotlib.axes._subplots.AxesSubplot at 0x7ff7f6b89390>"
      ]
     },
     "execution_count": 8,
     "metadata": {},
     "output_type": "execute_result"
    }
   ],
   "source": [
    "data.groupby('county')['students'].aggregate(sum).sort_values(ascending=False).plot(kind=\"bar\")"
   ]
  },
  {
   "cell_type": "code",
   "execution_count": 9,
   "metadata": {},
   "outputs": [
    {
     "data": {
      "image/png": "[encoded data removed]",
      "text/plain": [
       "<matplotlib.figure.Figure at 0x7ff7f696ea58>"
      ]
     },
     "metadata": {},
     "output_type": "display_data"
    }
   ],
   "source": [
    "plt.show()"
   ]
  },
  {
   "cell_type": "code",
   "execution_count": null,
   "metadata": {
    "collapsed": true
   },
   "outputs": [],
   "source": []
  }
 ],
 "metadata": {
  "kernelspec": {
   "display_name": "Python 3",
   "language": "python",
   "name": "python3"
  },
  "language_info": {
   "codemirror_mode": {
    "name": "ipython",
    "version": 3
   },
   "file_extension": ".py",
   "mimetype": "text/x-python",
   "name": "python",
   "nbconvert_exporter": "python",
   "pygments_lexer": "ipython3",
   "version": "3.5.3"
  }
 },
 "nbformat": 4,
 "nbformat_minor": 2
}
